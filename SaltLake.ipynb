{
 "cells": [
  {
   "cell_type": "markdown",
   "id": "6450e7fe-15f2-4eca-a3b1-850747b32849",
   "metadata": {},
   "source": [
    "# Salt Lake Multivariable Regression"
   ]
  },
  {
   "cell_type": "code",
   "execution_count": 2,
   "id": "d8ed3968-a2e3-4f3c-a723-fb22b55d0a30",
   "metadata": {},
   "outputs": [],
   "source": [
    "import pandas as pd\n",
    "import numpy as np\n"
   ]
  },
  {
   "cell_type": "code",
   "execution_count": 3,
   "id": "b23d354a",
   "metadata": {},
   "outputs": [
    {
     "data": {
      "text/html": [
       "<div>\n",
       "<style scoped>\n",
       "    .dataframe tbody tr th:only-of-type {\n",
       "        vertical-align: middle;\n",
       "    }\n",
       "\n",
       "    .dataframe tbody tr th {\n",
       "        vertical-align: top;\n",
       "    }\n",
       "\n",
       "    .dataframe thead th {\n",
       "        text-align: right;\n",
       "    }\n",
       "</style>\n",
       "<table border=\"1\" class=\"dataframe\">\n",
       "  <thead>\n",
       "    <tr style=\"text-align: right;\">\n",
       "      <th></th>\n",
       "      <th>Dt</th>\n",
       "      <th>Lake elevation, NGVD, ft (mean)</th>\n",
       "    </tr>\n",
       "  </thead>\n",
       "  <tbody>\n",
       "    <tr>\n",
       "      <th>0</th>\n",
       "      <td>10/18/1847</td>\n",
       "      <td>4199.80</td>\n",
       "    </tr>\n",
       "    <tr>\n",
       "      <th>1</th>\n",
       "      <td>10/19/1847</td>\n",
       "      <td></td>\n",
       "    </tr>\n",
       "    <tr>\n",
       "      <th>2</th>\n",
       "      <td>10/20/1847</td>\n",
       "      <td></td>\n",
       "    </tr>\n",
       "    <tr>\n",
       "      <th>3</th>\n",
       "      <td>10/21/1847</td>\n",
       "      <td></td>\n",
       "    </tr>\n",
       "    <tr>\n",
       "      <th>4</th>\n",
       "      <td>10/22/1847</td>\n",
       "      <td></td>\n",
       "    </tr>\n",
       "    <tr>\n",
       "      <th>...</th>\n",
       "      <td>...</td>\n",
       "      <td>...</td>\n",
       "    </tr>\n",
       "    <tr>\n",
       "      <th>64444</th>\n",
       "      <td>2024-03-27 00:00:00</td>\n",
       "      <td>4194.1</td>\n",
       "    </tr>\n",
       "    <tr>\n",
       "      <th>64445</th>\n",
       "      <td>2024-03-28 00:00:00</td>\n",
       "      <td>4194.2</td>\n",
       "    </tr>\n",
       "    <tr>\n",
       "      <th>64446</th>\n",
       "      <td>2024-03-29 00:00:00</td>\n",
       "      <td>4194.2</td>\n",
       "    </tr>\n",
       "    <tr>\n",
       "      <th>64447</th>\n",
       "      <td>2024-03-30 00:00:00</td>\n",
       "      <td>4194.2</td>\n",
       "    </tr>\n",
       "    <tr>\n",
       "      <th>64448</th>\n",
       "      <td>2024-03-31 00:00:00</td>\n",
       "      <td>4194.2</td>\n",
       "    </tr>\n",
       "  </tbody>\n",
       "</table>\n",
       "<p>64449 rows × 2 columns</p>\n",
       "</div>"
      ],
      "text/plain": [
       "                        Dt Lake elevation, NGVD, ft (mean)\n",
       "0               10/18/1847                       4199.80  \n",
       "1               10/19/1847                                \n",
       "2               10/20/1847                                \n",
       "3               10/21/1847                                \n",
       "4               10/22/1847                                \n",
       "...                    ...                             ...\n",
       "64444  2024-03-27 00:00:00                        4194.1  \n",
       "64445  2024-03-28 00:00:00                        4194.2  \n",
       "64446  2024-03-29 00:00:00                        4194.2  \n",
       "64447  2024-03-30 00:00:00                        4194.2  \n",
       "64448  2024-03-31 00:00:00                        4194.2  \n",
       "\n",
       "[64449 rows x 2 columns]"
      ]
     },
     "execution_count": 3,
     "metadata": {},
     "output_type": "execute_result"
    }
   ],
   "source": [
    "#open SaltLakeWaterElevation.xlsx\n",
    "df = pd.read_excel('SaltLakeWaterElevation.xlsx')\n",
    "df"
   ]
  },
  {
   "cell_type": "code",
   "execution_count": 4,
   "id": "70ed86c5",
   "metadata": {},
   "outputs": [
    {
     "data": {
      "text/plain": [
       "Dt\n",
       "1847    4199.800000\n",
       "1848    4200.400000\n",
       "1849    4200.500000\n",
       "1850    4200.550000\n",
       "1851    4201.300000\n",
       "           ...     \n",
       "2020    4193.559836\n",
       "2021    4191.661370\n",
       "2022    4190.047945\n",
       "2023    4192.102466\n",
       "2024    4193.308791\n",
       "Name: Lake elevation, NGVD, ft (mean), Length: 178, dtype: float64"
      ]
     },
     "execution_count": 4,
     "metadata": {},
     "output_type": "execute_result"
    }
   ],
   "source": [
    "\n",
    "file_path = 'SaltLakeWaterElevation.xlsx'\n",
    "df_salt_lake = pd.read_excel(file_path)\n",
    "\n",
    "# Convert 'Dt' column to datetime\n",
    "df_salt_lake['Dt'] = pd.to_datetime(df_salt_lake['Dt'])\n",
    "\n",
    "# Clean and convert 'Lake elevation, NGVD, ft (mean)' column to numeric\n",
    "# Strip any trailing whitespace and replace empty strings with NaN\n",
    "df_salt_lake['Lake elevation, NGVD, ft (mean)'] = df_salt_lake['Lake elevation, NGVD, ft (mean)'].str.strip().replace('', pd.NA)\n",
    "df_salt_lake['Lake elevation, NGVD, ft (mean)'] = pd.to_numeric(df_salt_lake['Lake elevation, NGVD, ft (mean)'], errors='coerce')\n",
    "\n",
    "# Calculate yearly averages\n",
    "yearly_averages = df_salt_lake.groupby(df_salt_lake['Dt'].dt.year)['Lake elevation, NGVD, ft (mean)'].mean()\n",
    "\n",
    "yearly_averages\n"
   ]
  },
  {
   "cell_type": "code",
   "execution_count": 5,
   "id": "d4e22d54",
   "metadata": {},
   "outputs": [
    {
     "data": {
      "text/html": [
       "<div>\n",
       "<style scoped>\n",
       "    .dataframe tbody tr th:only-of-type {\n",
       "        vertical-align: middle;\n",
       "    }\n",
       "\n",
       "    .dataframe tbody tr th {\n",
       "        vertical-align: top;\n",
       "    }\n",
       "\n",
       "    .dataframe thead th {\n",
       "        text-align: right;\n",
       "    }\n",
       "</style>\n",
       "<table border=\"1\" class=\"dataframe\">\n",
       "  <thead>\n",
       "    <tr style=\"text-align: right;\">\n",
       "      <th></th>\n",
       "      <th>year</th>\n",
       "      <th>average elevation</th>\n",
       "    </tr>\n",
       "  </thead>\n",
       "  <tbody>\n",
       "    <tr>\n",
       "      <th>0</th>\n",
       "      <td>1847</td>\n",
       "      <td>4199.800000</td>\n",
       "    </tr>\n",
       "    <tr>\n",
       "      <th>1</th>\n",
       "      <td>1848</td>\n",
       "      <td>4200.400000</td>\n",
       "    </tr>\n",
       "    <tr>\n",
       "      <th>2</th>\n",
       "      <td>1849</td>\n",
       "      <td>4200.500000</td>\n",
       "    </tr>\n",
       "    <tr>\n",
       "      <th>3</th>\n",
       "      <td>1850</td>\n",
       "      <td>4200.550000</td>\n",
       "    </tr>\n",
       "    <tr>\n",
       "      <th>4</th>\n",
       "      <td>1851</td>\n",
       "      <td>4201.300000</td>\n",
       "    </tr>\n",
       "    <tr>\n",
       "      <th>...</th>\n",
       "      <td>...</td>\n",
       "      <td>...</td>\n",
       "    </tr>\n",
       "    <tr>\n",
       "      <th>95</th>\n",
       "      <td>1942</td>\n",
       "      <td>4195.479167</td>\n",
       "    </tr>\n",
       "    <tr>\n",
       "      <th>96</th>\n",
       "      <td>1943</td>\n",
       "      <td>4195.425000</td>\n",
       "    </tr>\n",
       "    <tr>\n",
       "      <th>97</th>\n",
       "      <td>1944</td>\n",
       "      <td>4195.550000</td>\n",
       "    </tr>\n",
       "    <tr>\n",
       "      <th>98</th>\n",
       "      <td>1945</td>\n",
       "      <td>4195.620833</td>\n",
       "    </tr>\n",
       "    <tr>\n",
       "      <th>99</th>\n",
       "      <td>1946</td>\n",
       "      <td>4196.233333</td>\n",
       "    </tr>\n",
       "  </tbody>\n",
       "</table>\n",
       "<p>100 rows × 2 columns</p>\n",
       "</div>"
      ],
      "text/plain": [
       "    year  average elevation\n",
       "0   1847        4199.800000\n",
       "1   1848        4200.400000\n",
       "2   1849        4200.500000\n",
       "3   1850        4200.550000\n",
       "4   1851        4201.300000\n",
       "..   ...                ...\n",
       "95  1942        4195.479167\n",
       "96  1943        4195.425000\n",
       "97  1944        4195.550000\n",
       "98  1945        4195.620833\n",
       "99  1946        4196.233333\n",
       "\n",
       "[100 rows x 2 columns]"
      ]
     },
     "execution_count": 5,
     "metadata": {},
     "output_type": "execute_result"
    }
   ],
   "source": [
    "yearly_averages_df = yearly_averages.reset_index() \n",
    "yearly_averages_df.columns = ['year', 'average elevation'] \n",
    "\n",
    "yearly_averages_df.head(100)\n"
   ]
  },
  {
   "cell_type": "code",
   "execution_count": 6,
   "id": "af94c6fa",
   "metadata": {},
   "outputs": [],
   "source": [
    "#save the yearly averages to a csv file as waterlevel_yearly_averages.csv\n",
    "yearly_averages_df.to_csv('waterlevel_yearly_averages.csv', index=False)"
   ]
  },
  {
   "cell_type": "code",
   "execution_count": 43,
   "id": "b402424a",
   "metadata": {},
   "outputs": [
    {
     "data": {
      "text/plain": [
       "(4211.05, 1873)"
      ]
     },
     "execution_count": 43,
     "metadata": {},
     "output_type": "execute_result"
    }
   ],
   "source": [
    "#show me the biggest value of the average elevation and the year it happened\n",
    "max_elevation = yearly_averages_df['average elevation'].max()\n",
    "max_elevation_year = yearly_averages_df[yearly_averages_df['average elevation'] == max_elevation]['year'].values[0]\n",
    "max_elevation, max_elevation_year"
   ]
  },
  {
   "cell_type": "code",
   "execution_count": 44,
   "id": "3989f1a5",
   "metadata": {},
   "outputs": [
    {
     "data": {
      "text/plain": [
       "(4190.04794520548, 2022)"
      ]
     },
     "execution_count": 44,
     "metadata": {},
     "output_type": "execute_result"
    }
   ],
   "source": [
    "#show me the smallest value of the average elevation and the year it happened\n",
    "min_elevation = yearly_averages_df['average elevation'].min()\n",
    "min_elevation_year = yearly_averages_df[yearly_averages_df['average elevation'] == min_elevation]['year'].values[0]\n",
    "min_elevation, min_elevation_year"
   ]
  },
  {
   "cell_type": "code",
   "execution_count": 45,
   "id": "5fd90cb9",
   "metadata": {},
   "outputs": [
    {
     "data": {
      "text/plain": [
       "4200.311450591144"
      ]
     },
     "execution_count": 45,
     "metadata": {},
     "output_type": "execute_result"
    }
   ],
   "source": [
    "#show me the average elevation throughout the years\n",
    "average_elevation = yearly_averages_df['average elevation'].mean()\n",
    "average_elevation"
   ]
  },
  {
   "cell_type": "code",
   "execution_count": null,
   "id": "87dce013",
   "metadata": {},
   "outputs": [],
   "source": []
  }
 ],
 "metadata": {
  "kernelspec": {
   "display_name": "Python 3 (ipykernel)",
   "language": "python",
   "name": "python3"
  },
  "language_info": {
   "codemirror_mode": {
    "name": "ipython",
    "version": 3
   },
   "file_extension": ".py",
   "mimetype": "text/x-python",
   "name": "python",
   "nbconvert_exporter": "python",
   "pygments_lexer": "ipython3",
   "version": "3.11.6"
  }
 },
 "nbformat": 4,
 "nbformat_minor": 5
}
